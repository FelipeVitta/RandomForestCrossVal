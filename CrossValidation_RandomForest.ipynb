{
  "nbformat": 4,
  "nbformat_minor": 0,
  "metadata": {
    "colab": {
      "provenance": [],
      "collapsed_sections": [],
      "authorship_tag": "ABX9TyPD2H1U12pBxlQ0zgixL9Yo",
      "include_colab_link": true
    },
    "kernelspec": {
      "name": "python3",
      "display_name": "Python 3"
    },
    "language_info": {
      "name": "python"
    }
  },
  "cells": [
    {
      "cell_type": "markdown",
      "metadata": {
        "id": "view-in-github",
        "colab_type": "text"
      },
      "source": [
        "<a href=\"https://colab.research.google.com/github/FelipeVitta/RandomForestCrossVal/blob/main/CrossValidation_RandomForest.ipynb\" target=\"_parent\"><img src=\"https://colab.research.google.com/assets/colab-badge.svg\" alt=\"Open In Colab\"/></a>"
      ]
    },
    {
      "cell_type": "code",
      "execution_count": null,
      "metadata": {
        "colab": {
          "base_uri": "https://localhost:8080/",
          "height": 582
        },
        "id": "eU-1tSnO6Y3L",
        "outputId": "2d48c22f-71fc-4578-84cf-4268edc83a8c"
      },
      "outputs": [
        {
          "output_type": "stream",
          "name": "stdout",
          "text": [
            "                 precision    recall  f1-score   support\n",
            "\n",
            "    Iris-setosa       1.00      1.00      1.00        12\n",
            "Iris-versicolor       0.89      1.00      0.94         8\n",
            " Iris-virginica       1.00      0.90      0.95        10\n",
            "\n",
            "       accuracy                           0.97        30\n",
            "      macro avg       0.96      0.97      0.96        30\n",
            "   weighted avg       0.97      0.97      0.97        30\n",
            "\n"
          ]
        },
        {
          "output_type": "display_data",
          "data": {
            "text/plain": [
              "<Figure size 576x396 with 1 Axes>"
            ],
            "image/png": "[encoded data removed]"
          },
          "metadata": {}
        }
      ],
      "source": [
        "from yellowbrick.classifier import ConfusionMatrix\n",
        "from sklearn.metrics._plot.confusion_matrix import confusion_matrix\n",
        "from sklearn.metrics import classification_report\n",
        "from sklearn.tree import export_graphviz\n",
        "import pandas as pd\n",
        "from sklearn.ensemble import RandomForestClassifier\n",
        "from sklearn.model_selection import train_test_split\n",
        "from sklearn.preprocessing import LabelEncoder\n",
        "from sklearn.preprocessing import OneHotEncoder\n",
        "from sklearn.compose import ColumnTransformer\n",
        "from imblearn.over_sampling import SMOTE \n",
        "from sklearn.impute import KNNImputer\n",
        "from sklearn.model_selection import cross_val_score\n",
        "\n",
        "dataset = pd.read_csv(\"/content/sample_data/Iris.csv\")\n",
        "\n",
        "inputs = dataset.drop('class',axis='columns')\n",
        "target = dataset['class']\n",
        "\n",
        "#imputando dados ausentes \n",
        "knn_imputer = KNNImputer(n_neighbors=2)\n",
        "inputs = knn_imputer.fit_transform(inputs)\n",
        "\n",
        "#balanceamento oversample\n",
        "smt = SMOTE(random_state=1)\n",
        "inputs, target = smt.fit_resample(inputs,target)\n",
        "\n",
        "x_treino,x_teste,y_treino,y_teste = train_test_split(inputs, target, test_size = 0.2, random_state = 23);\n",
        "\n",
        "model = RandomForestClassifier(n_estimators=100, n_jobs=-1, random_state = 100);\n",
        "model.fit(x_treino,y_treino)\n",
        "\n",
        "scores = cross_val_score(model, inputs, target, cv=10, scoring='accuracy')\n",
        "\n",
        "#previsao do modelo com as entradas de teste\n",
        "\n",
        "previsao = model.predict(x_teste)\n",
        "\n",
        "#comparando as saidas de teste com os testes da previsao\n",
        "\n",
        "confusion_matrix(y_teste, previsao)\n",
        "\n",
        "cm = ConfusionMatrix(model)\n",
        "cm.fit(x_treino, y_treino)\n",
        "cm.score(x_teste,y_teste)\n",
        "\n",
        "#gerando as metricas do modelo\n",
        "\n",
        "print(classification_report(y_teste,previsao))"
      ]
    },
    {
      "cell_type": "code",
      "source": [
        "from google.colab import drive\n",
        "drive.mount('/content/drive')"
      ],
      "metadata": {
        "id": "d7k8soQxeHSN"
      },
      "execution_count": null,
      "outputs": []
    },
    {
      "cell_type": "code",
      "source": [
        "scores"
      ],
      "metadata": {
        "colab": {
          "base_uri": "https://localhost:8080/"
        },
        "id": "k0NHM60N6dSC",
        "outputId": "c29aa4e5-8ea5-45c7-c5e6-4c8a644f9f10"
      },
      "execution_count": null,
      "outputs": [
        {
          "output_type": "execute_result",
          "data": {
            "text/plain": [
              "array([1.        , 0.93333333, 1.        , 0.93333333, 0.93333333,\n",
              "       0.93333333, 0.86666667, 1.        , 1.        , 1.        ])"
            ]
          },
          "metadata": {},
          "execution_count": 10
        }
      ]
    },
    {
      "cell_type": "code",
      "source": [
        "print(sum(scores)/float(len(scores)))"
      ],
      "metadata": {
        "colab": {
          "base_uri": "https://localhost:8080/"
        },
        "id": "kXJGAasd6eDE",
        "outputId": "8becd1e9-bbf7-43f1-8cf7-ab3c2422ffcc"
      },
      "execution_count": null,
      "outputs": [
        {
          "output_type": "stream",
          "name": "stdout",
          "text": [
            "0.9600000000000002\n"
          ]
        }
      ]
    }
  ]
}